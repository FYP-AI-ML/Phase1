{
  "nbformat": 4,
  "nbformat_minor": 0,
  "metadata": {
    "colab": {
      "provenance": [],
      "mount_file_id": "1qQmkNCfYf_3sxr252-05JevKq1PTMhVB",
      "authorship_tag": "ABX9TyNKtgtgSu+FK2ksMvXj3Ncv",
      "include_colab_link": true
    },
    "kernelspec": {
      "name": "python3",
      "display_name": "Python 3"
    },
    "language_info": {
      "name": "python"
    }
  },
  "cells": [
    {
      "cell_type": "markdown",
      "metadata": {
        "id": "view-in-github",
        "colab_type": "text"
      },
      "source": [
        "<a href=\"https://colab.research.google.com/github/FYP-AI-ML/Phase1/blob/main/bilal.ipynb\" target=\"_parent\"><img src=\"https://colab.research.google.com/assets/colab-badge.svg\" alt=\"Open In Colab\"/></a>"
      ]
    },
    {
      "cell_type": "code",
      "execution_count": 1,
      "metadata": {
        "colab": {
          "base_uri": "https://localhost:8080/"
        },
        "id": "OS5igf4DJ-TM",
        "outputId": "2aeba3ed-7863-466d-be12-126b37bcb55e"
      },
      "outputs": [
        {
          "output_type": "stream",
          "name": "stdout",
          "text": [
            "This is the first changes, pushing to github..\n"
          ]
        }
      ],
      "source": [
        "print(\"This is the first changes, pushing to github..\")"
      ]
    }
  ]
}